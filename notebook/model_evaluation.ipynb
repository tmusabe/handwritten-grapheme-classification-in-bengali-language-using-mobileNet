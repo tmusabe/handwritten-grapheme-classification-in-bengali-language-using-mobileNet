{
 "cells": [
  {
   "cell_type": "code",
   "execution_count": 1,
   "id": "02a33f3f",
   "metadata": {},
   "outputs": [],
   "source": [
    "import os\n",
    "import torch\n",
    "import sys\n",
    "sys.path.append(\"../\")\n",
    "from models import MobileNetV2\n",
    "from dataset import BengaliDatasetTrain\n",
    "from dataset import DeviceDataLoader\n",
    "import matplotlib\n",
    "import matplotlib.pyplot as plt\n",
    "import numpy as np\n",
    "import pandas as pd\n",
    "%matplotlib inline\n",
    "\n",
    "matplotlib.rcParams['figure.facecolor'] = '#ffffff'"
   ]
  },
  {
   "cell_type": "code",
   "execution_count": 2,
   "id": "a1d29b2b",
   "metadata": {},
   "outputs": [],
   "source": [
    "def plot_accuracies(history):\n",
    "    accuracies = [x['val_acc'] for x in history]\n",
    "    plt.plot(accuracies, '-x')\n",
    "    plt.xlabel('epoch')\n",
    "    plt.ylabel('accuracy')\n",
    "    plt.title('Accuracy vs. No. of epochs')\n",
    "    plt.savefig(f'../images/Accuracy {INDEX}.png')"
   ]
  },
  {
   "cell_type": "code",
   "execution_count": 3,
   "id": "2a1dbbc4",
   "metadata": {},
   "outputs": [],
   "source": [
    "def plot_losses(history):\n",
    "    train_losses = [x.get('train_loss') for x in history]\n",
    "    val_losses = [x['val_loss'] for x in history]\n",
    "    plt.plot(train_losses, '-bx')\n",
    "    plt.plot(val_losses, '-rx')\n",
    "    plt.xlabel('epoch')\n",
    "    plt.ylabel('loss')\n",
    "    plt.legend(['Training', 'Validation'])\n",
    "    plt.title('Loss vs. No. of epochs')\n",
    "    plt.savefig(f'../images/Loss {INDEX}.png')"
   ]
  },
  {
   "cell_type": "code",
   "execution_count": 4,
   "id": "f128a6f7",
   "metadata": {},
   "outputs": [],
   "source": [
    "def plot_lrs(history):\n",
    "    lrs = np.concatenate([x.get('lrs', []) for x in history])\n",
    "    plt.plot(lrs)\n",
    "    plt.xlabel('Batch no.')\n",
    "    plt.ylabel('Learning rate')\n",
    "    plt.title('Learning Rate vs. Batch no.')\n",
    "    plt.savefig(f'../images/Learning Rate {INDEX}.png')"
   ]
  },
  {
   "cell_type": "code",
   "execution_count": 5,
   "id": "c4a342ff",
   "metadata": {},
   "outputs": [
    {
     "name": "stderr",
     "output_type": "stream",
     "text": [
      "Using cache found in /home/musabeta/.cache/torch/hub/pytorch_vision_v0.10.0\n"
     ]
    }
   ],
   "source": [
    "model = MobileNetV2(pretrained=None)"
   ]
  },
  {
   "cell_type": "code",
   "execution_count": 6,
   "id": "9cb3ae2f",
   "metadata": {},
   "outputs": [],
   "source": [
    "INDEX = 4"
   ]
  },
  {
   "cell_type": "code",
   "execution_count": 7,
   "id": "767ef77b",
   "metadata": {},
   "outputs": [
    {
     "data": {
      "text/plain": [
       "<All keys matched successfully>"
      ]
     },
     "execution_count": 7,
     "metadata": {},
     "output_type": "execute_result"
    }
   ],
   "source": [
    "fold = torch.load(f'../state/inital/model{INDEX}.pt')\n",
    "history = fold['history']\n",
    "model_state_dict = fold['model_state_dict']\n",
    "model.load_state_dict(model_state_dict)"
   ]
  },
  {
   "cell_type": "code",
   "execution_count": 8,
   "id": "f6301b90",
   "metadata": {},
   "outputs": [],
   "source": [
    "plot_accuracies(history)"
   ]
  },
  {
   "cell_type": "code",
   "execution_count": 9,
   "id": "31f8438a",
   "metadata": {},
   "outputs": [],
   "source": [
    "plot_losses(history)"
   ]
  },
  {
   "cell_type": "code",
   "execution_count": 10,
   "id": "66fdf117",
   "metadata": {},
   "outputs": [],
   "source": [
    "plot_lrs(history)"
   ]
  },
  {
   "cell_type": "code",
   "execution_count": 11,
   "id": "669d2338",
   "metadata": {},
   "outputs": [],
   "source": [
    "for file in os.listdir(\"../state/\"):\n",
    "    if f'model{INDEX}result.csv' in file:\n",
    "        df = pd.read_csv(f'../state/{file}')\n",
    "        break"
   ]
  },
  {
   "cell_type": "code",
   "execution_count": 12,
   "id": "69f013a3",
   "metadata": {},
   "outputs": [
    {
     "data": {
      "text/html": [
       "<div>\n",
       "<style scoped>\n",
       "    .dataframe tbody tr th:only-of-type {\n",
       "        vertical-align: middle;\n",
       "    }\n",
       "\n",
       "    .dataframe tbody tr th {\n",
       "        vertical-align: top;\n",
       "    }\n",
       "\n",
       "    .dataframe thead th {\n",
       "        text-align: right;\n",
       "    }\n",
       "</style>\n",
       "<table border=\"1\" class=\"dataframe\">\n",
       "  <thead>\n",
       "    <tr style=\"text-align: right;\">\n",
       "      <th></th>\n",
       "      <th>Image</th>\n",
       "      <th>Grapheme_Root</th>\n",
       "      <th>Vowel_Diacritic</th>\n",
       "      <th>Consonant_Diacritic</th>\n",
       "    </tr>\n",
       "  </thead>\n",
       "  <tbody>\n",
       "    <tr>\n",
       "      <th>0</th>\n",
       "      <td>Test1</td>\n",
       "      <td>['আ']</td>\n",
       "      <td>['0']</td>\n",
       "      <td>['0']</td>\n",
       "    </tr>\n",
       "    <tr>\n",
       "      <th>1</th>\n",
       "      <td>Test2</td>\n",
       "      <td>['ন্ব']</td>\n",
       "      <td>['ি']</td>\n",
       "      <td>['0']</td>\n",
       "    </tr>\n",
       "    <tr>\n",
       "      <th>2</th>\n",
       "      <td>Test3</td>\n",
       "      <td>['স্ক']</td>\n",
       "      <td>['া']</td>\n",
       "      <td>['্য']</td>\n",
       "    </tr>\n",
       "    <tr>\n",
       "      <th>3</th>\n",
       "      <td>Test4</td>\n",
       "      <td>['ক্স']</td>\n",
       "      <td>['ি']</td>\n",
       "      <td>['0']</td>\n",
       "    </tr>\n",
       "    <tr>\n",
       "      <th>4</th>\n",
       "      <td>Test5</td>\n",
       "      <td>['ক্ষ্ণ']</td>\n",
       "      <td>['0']</td>\n",
       "      <td>['0']</td>\n",
       "    </tr>\n",
       "    <tr>\n",
       "      <th>5</th>\n",
       "      <td>Test6</td>\n",
       "      <td>['ম']</td>\n",
       "      <td>['0']</td>\n",
       "      <td>['0']</td>\n",
       "    </tr>\n",
       "    <tr>\n",
       "      <th>6</th>\n",
       "      <td>Test7</td>\n",
       "      <td>['ঠ']</td>\n",
       "      <td>['ু']</td>\n",
       "      <td>['0']</td>\n",
       "    </tr>\n",
       "    <tr>\n",
       "      <th>7</th>\n",
       "      <td>Test8</td>\n",
       "      <td>['ম']</td>\n",
       "      <td>['ি']</td>\n",
       "      <td>['0']</td>\n",
       "    </tr>\n",
       "    <tr>\n",
       "      <th>8</th>\n",
       "      <td>Test9</td>\n",
       "      <td>['স']</td>\n",
       "      <td>['ো']</td>\n",
       "      <td>['্র']</td>\n",
       "    </tr>\n",
       "    <tr>\n",
       "      <th>9</th>\n",
       "      <td>Test10</td>\n",
       "      <td>['শ্ম']</td>\n",
       "      <td>['ে']</td>\n",
       "      <td>['0']</td>\n",
       "    </tr>\n",
       "    <tr>\n",
       "      <th>10</th>\n",
       "      <td>Test11</td>\n",
       "      <td>['ম্ভ']</td>\n",
       "      <td>['ো']</td>\n",
       "      <td>['0']</td>\n",
       "    </tr>\n",
       "    <tr>\n",
       "      <th>11</th>\n",
       "      <td>Test12</td>\n",
       "      <td>['শ']</td>\n",
       "      <td>['ৌ']</td>\n",
       "      <td>['0']</td>\n",
       "    </tr>\n",
       "  </tbody>\n",
       "</table>\n",
       "</div>"
      ],
      "text/plain": [
       "     Image Grapheme_Root Vowel_Diacritic Consonant_Diacritic\n",
       "0    Test1         ['আ']           ['0']               ['0']\n",
       "1    Test2       ['ন্ব']           ['ি']               ['0']\n",
       "2    Test3       ['স্ক']           ['া']              ['্য']\n",
       "3    Test4       ['ক্স']           ['ি']               ['0']\n",
       "4    Test5     ['ক্ষ্ণ']           ['0']               ['0']\n",
       "5    Test6         ['ম']           ['0']               ['0']\n",
       "6    Test7         ['ঠ']           ['ু']               ['0']\n",
       "7    Test8         ['ম']           ['ি']               ['0']\n",
       "8    Test9         ['স']           ['ো']              ['্র']\n",
       "9   Test10       ['শ্ম']           ['ে']               ['0']\n",
       "10  Test11       ['ম্ভ']           ['ো']               ['0']\n",
       "11  Test12         ['শ']           ['ৌ']               ['0']"
      ]
     },
     "execution_count": 12,
     "metadata": {},
     "output_type": "execute_result"
    }
   ],
   "source": [
    "df"
   ]
  }
 ],
 "metadata": {
  "kernelspec": {
   "display_name": "Python 3",
   "language": "python",
   "name": "python3"
  },
  "language_info": {
   "codemirror_mode": {
    "name": "ipython",
    "version": 3
   },
   "file_extension": ".py",
   "mimetype": "text/x-python",
   "name": "python",
   "nbconvert_exporter": "python",
   "pygments_lexer": "ipython3",
   "version": "3.8.8"
  }
 },
 "nbformat": 4,
 "nbformat_minor": 5
}
